{
  "cells": [
    {
      "cell_type": "markdown",
      "metadata": {},
      "source": [
        "\n"
      ]
    },
    {
      "cell_type": "code",
      "execution_count": null,
      "metadata": {},
      "outputs": [],
      "source": [
        "\n"
      ]
    },
    {
      "cell_type": "markdown",
      "metadata": {},
      "source": [
        "\n"
      ]
    },
    {
      "cell_type": "code",
      "execution_count": null,
      "metadata": {},
      "outputs": [],
      "source": [
        "\n"
      ]
    },
    {
      "cell_type": "code",
      "execution_count": null,
      "metadata": {},
      "outputs": [],
      "source": [
        "\n"
      ]
    },
    {
      "cell_type": "code",
      "execution_count": null,
      "metadata": {},
      "outputs": [],
      "source": [
        "# Dataset overview\n",
        "print(\"Dataset Overview\")\n",
        "print(\"=\"*60)\n",
        "print(f\"Total Records: {len(df):,}\")\n",
        "print(f\"Columns: {len(df.columns)}\")\n",
        "print(f\"Memory Usage: {df.memory_usage(deep=True).sum() / 1024**2:.2f} MB\")\n",
        "print(f\"\\nUnique Values:\")\n",
        "print(f\"  - Customers: {df['customer_id'].nunique():,}\")\n",
        "print(f\"  - Products: {df['product_id'].nunique():,}\")\n",
        "print(f\"  - Transactions: {df['transaction_id'].nunique():,}\")\n",
        "print(f\"  - Categories: {df['category'].nunique()}\")\n",
        "print(f\"  - Countries: {df['country'].nunique()}\")\n"
      ]
    },
    {
      "cell_type": "code",
      "execution_count": null,
      "metadata": {},
      "outputs": [],
      "source": [
        "# Data types and statistical summary\n",
        "print(\"Statistical Summary\")\n",
        "df[['quantity', 'unit_price', 'subtotal', 'discount_amount', \n",
        "    'tax_amount', 'shipping_cost', 'total_amount', 'profit']].describe()\n"
      ]
    },
    {
      "cell_type": "markdown",
      "metadata": {},
      "source": [
        "## 2. Data Quality Assessment\n"
      ]
    },
    {
      "cell_type": "code",
      "execution_count": null,
      "metadata": {},
      "outputs": [],
      "source": [
        "# Missing values analysis\n",
        "print(\"Missing Values Analysis\")\n",
        "print(\"=\"*60)\n",
        "\n",
        "missing = df.isnull().sum()\n",
        "missing_pct = (missing / len(df) * 100).round(2)\n",
        "missing_df = pd.DataFrame({\n",
        "    'Missing_Count': missing,\n",
        "    'Percentage': missing_pct\n",
        "})\n",
        "missing_df = missing_df[missing_df['Missing_Count'] > 0].sort_values('Missing_Count', ascending=False)\n",
        "\n",
        "if len(missing_df) > 0:\n",
        "    print(missing_df)\n",
        "else:\n",
        "    print(\"No missing values found in completed transactions view\")\n"
      ]
    },
    {
      "cell_type": "code",
      "execution_count": null,
      "metadata": {},
      "outputs": [],
      "source": [
        "# Create analysis features\n",
        "df['year'] = df['transaction_date'].dt.year\n",
        "df['month'] = df['transaction_date'].dt.month\n",
        "df['day_of_week'] = df['transaction_date'].dt.dayofweek\n",
        "df['profit_margin'] = (df['profit'] / df['total_amount'] * 100)\n",
        "\n",
        "print(\"Features created successfully\")\n"
      ]
    },
    {
      "cell_type": "markdown",
      "metadata": {},
      "source": [
        "## 3. Sales Performance Analysis\n"
      ]
    },
    {
      "cell_type": "code",
      "execution_count": null,
      "metadata": {},
      "outputs": [],
      "source": [
        "# Revenue trends over time\n",
        "daily_sales = df.groupby('transaction_date').agg({\n",
        "    'total_amount': 'sum',\n",
        "    'transaction_id': 'count'\n",
        "}).reset_index()\n",
        "daily_sales.columns = ['date', 'revenue', 'transactions']\n",
        "\n",
        "# Plot\n",
        "fig, (ax1, ax2) = plt.subplots(2, 1, figsize=(15, 10))\n",
        "\n",
        "ax1.plot(daily_sales['date'], daily_sales['revenue'], linewidth=1.5, color='#2E86AB')\n",
        "ax1.set_title('Daily Revenue Trend', fontsize=14, fontweight='bold')\n",
        "ax1.set_xlabel('Date')\n",
        "ax1.set_ylabel('Revenue ($)')\n",
        "ax1.grid(True, alpha=0.3)\n",
        "\n",
        "ax2.plot(daily_sales['date'], daily_sales['transactions'], linewidth=1.5, color='#F18F01')\n",
        "ax2.set_title('Daily Transaction Count', fontsize=14, fontweight='bold')\n",
        "ax2.set_xlabel('Date')\n",
        "ax2.set_ylabel('Number of Transactions')\n",
        "ax2.grid(True, alpha=0.3)\n",
        "\n",
        "plt.tight_layout()\n",
        "plt.savefig(PATHS['reports'] / 'plots' / 'notebook_daily_trends.png', dpi=300, bbox_inches='tight')\n",
        "plt.show()\n",
        "\n",
        "print(f\"Average daily revenue: ${daily_sales['revenue'].mean():,.2f}\")\n",
        "print(f\"Average daily transactions: {daily_sales['transactions'].mean():.0f}\")\n"
      ]
    },
    {
      "cell_type": "markdown",
      "metadata": {},
      "source": [
        "## 4. Customer Segment Analysis\n"
      ]
    },
    {
      "cell_type": "code",
      "execution_count": null,
      "metadata": {},
      "outputs": [],
      "source": [
        "# Customer segment performance\n",
        "segment_analysis = df.groupby('customer_segment').agg({\n",
        "    'total_amount': ['sum', 'mean', 'count'],\n",
        "    'customer_id': 'nunique',\n",
        "    'profit': 'sum'\n",
        "}).reset_index()\n",
        "\n",
        "segment_analysis.columns = ['segment', 'total_revenue', 'avg_transaction', \n",
        "                             'transactions', 'unique_customers', 'total_profit']\n",
        "segment_analysis['revenue_per_customer'] = segment_analysis['total_revenue'] / segment_analysis['unique_customers']\n",
        "segment_analysis['revenue_pct'] = segment_analysis['total_revenue'] / segment_analysis['total_revenue'].sum() * 100\n",
        "\n",
        "print(\"Customer Segment Analysis\")\n",
        "print(\"=\"*80)\n",
        "print(segment_analysis.to_string(index=False))\n",
        "\n",
        "# Visualization\n",
        "fig, ((ax1, ax2), (ax3, ax4)) = plt.subplots(2, 2, figsize=(16, 12))\n",
        "\n",
        "colors = ['#FF6B6B', '#4ECDC4', '#95E1D3']\n",
        "ax1.pie(segment_analysis['total_revenue'], labels=segment_analysis['segment'], \n",
        "        autopct='%1.1f%%', colors=colors, startangle=90)\n",
        "ax1.set_title('Revenue Distribution by Customer Segment', fontsize=12, fontweight='bold')\n",
        "\n",
        "ax2.bar(segment_analysis['segment'], segment_analysis['avg_transaction'], color=colors, alpha=0.8)\n",
        "ax2.set_title('Average Transaction Value by Segment', fontsize=12, fontweight='bold')\n",
        "ax2.set_ylabel('Avg Transaction ($)')\n",
        "ax2.grid(True, alpha=0.3, axis='y')\n",
        "\n",
        "ax3.bar(segment_analysis['segment'], segment_analysis['revenue_per_customer'], color=colors, alpha=0.8)\n",
        "ax3.set_title('Revenue per Customer by Segment', fontsize=12, fontweight='bold')\n",
        "ax3.set_ylabel('Revenue per Customer ($)')\n",
        "ax3.grid(True, alpha=0.3, axis='y')\n",
        "\n",
        "ax4.bar(segment_analysis['segment'], segment_analysis['unique_customers'], color=colors, alpha=0.8)\n",
        "ax4.set_title('Number of Customers by Segment', fontsize=12, fontweight='bold')\n",
        "ax4.set_ylabel('Customer Count')\n",
        "ax4.grid(True, alpha=0.3, axis='y')\n",
        "\n",
        "plt.tight_layout()\n",
        "plt.savefig(PATHS['reports'] / 'plots' / 'notebook_segment_analysis.png', dpi=300, bbox_inches='tight')\n",
        "plt.show()\n"
      ]
    },
    {
      "cell_type": "markdown",
      "metadata": {},
      "source": []
    },
    {
      "cell_type": "code",
      "execution_count": null,
      "metadata": {},
      "outputs": [],
      "source": [
        "# Category performance analysis\n",
        "category_performance = df.groupby('category').agg({\n",
        "    'total_amount': ['sum', 'mean'],\n",
        "    'transaction_id': 'count',\n",
        "    'quantity': 'sum',\n",
        "    'profit': 'sum',\n",
        "    'profit_margin': 'mean'\n",
        "}).reset_index()\n",
        "\n",
        "category_performance.columns = ['category', 'total_revenue', 'avg_order_value', \n",
        "                                 'orders', 'units_sold', 'total_profit', 'avg_margin']\n",
        "category_performance = category_performance.sort_values('total_revenue', ascending=False)\n",
        "\n",
        "print(\"Top 10 Product Categories by Revenue\")\n",
        "print(\"=\"*80)\n",
        "print(category_performance.head(10).to_string(index=False))\n",
        "\n",
        "# Visualization\n",
        "fig, (ax1, ax2) = plt.subplots(1, 2, figsize=(16, 6))\n",
        "\n",
        "top_categories = category_performance.head(10)\n",
        "ax1.barh(top_categories['category'], top_categories['total_revenue'], color='#2E86AB', alpha=0.8)\n",
        "ax1.set_title('Top 10 Categories by Revenue', fontsize=12, fontweight='bold')\n",
        "ax1.set_xlabel('Total Revenue ($)')\n",
        "ax1.invert_yaxis()\n",
        "ax1.grid(True, alpha=0.3, axis='x')\n",
        "\n",
        "top_margin = category_performance.nlargest(10, 'avg_margin')\n",
        "ax2.barh(top_margin['category'], top_margin['avg_margin'], color='#F18F01', alpha=0.8)\n",
        "ax2.set_title('Top 10 Categories by Profit Margin', fontsize=12, fontweight='bold')\n",
        "ax2.set_xlabel('Average Profit Margin (%)')\n",
        "ax2.invert_yaxis()\n",
        "ax2.grid(True, alpha=0.3, axis='x')\n",
        "\n",
        "plt.tight_layout()\n",
        "plt.savefig(PATHS['reports'] / 'plots' / 'notebook_category_analysis.png', dpi=300, bbox_inches='tight')\n",
        "plt.show()\n"
      ]
    },
    {
      "cell_type": "markdown",
      "metadata": {},
      "source": [
        "## 6. Geographic Distribution\n"
      ]
    },
    {
      "cell_type": "code",
      "execution_count": null,
      "metadata": {},
      "outputs": [],
      "source": [
        "# Geographic analysis\n",
        "geo_sales = df.groupby('country').agg({\n",
        "    'total_amount': 'sum',\n",
        "    'transaction_id': 'count',\n",
        "    'customer_id': 'nunique'\n",
        "}).reset_index()\n",
        "\n",
        "geo_sales.columns = ['country', 'total_revenue', 'transactions', 'customers']\n",
        "geo_sales = geo_sales.sort_values('total_revenue', ascending=False)\n",
        "geo_sales['revenue_pct'] = geo_sales['total_revenue'] / geo_sales['total_revenue'].sum() * 100\n",
        "\n",
        "print(\"Sales by Country\")\n",
        "print(\"=\"*70)\n",
        "print(geo_sales.to_string(index=False))\n",
        "\n",
        "# Visualization\n",
        "fig, ax = plt.subplots(figsize=(12, 6))\n",
        "bars = ax.bar(geo_sales['country'], geo_sales['total_revenue'], \n",
        "              color=sns.color_palette('viridis', len(geo_sales)), alpha=0.8)\n",
        "ax.set_title('Revenue by Country', fontsize=14, fontweight='bold')\n",
        "ax.set_xlabel('Country')\n",
        "ax.set_ylabel('Total Revenue ($)')\n",
        "ax.tick_params(axis='x', rotation=45)\n",
        "ax.grid(True, alpha=0.3, axis='y')\n",
        "\n",
        "for i, (bar, pct) in enumerate(zip(bars, geo_sales['revenue_pct'])):\n",
        "    height = bar.get_height()\n",
        "    ax.text(bar.get_x() + bar.get_width()/2., height,\n",
        "            f'{pct:.1f}%', ha='center', va='bottom', fontsize=9)\n",
        "\n",
        "plt.tight_layout()\n",
        "plt.savefig(PATHS['reports'] / 'plots' / 'notebook_geographic.png', dpi=300, bbox_inches='tight')\n",
        "plt.show()\n"
      ]
    },
    {
      "cell_type": "markdown",
      "metadata": {},
      "source": [
        "## 7. Key Findings Summary\n"
      ]
    },
    {
      "cell_type": "code",
      "execution_count": null,
      "metadata": {},
      "outputs": [],
      "source": [
        "# Summary insights\n",
        "print(\"=\"*80)\n",
        "print(\"KEY INSIGHTS AND FINDINGS\")\n",
        "print(\"=\"*80)\n",
        "\n",
        "print(\"\\n1. OVERALL BUSINESS METRICS\")\n",
        "print(f\"   Total Revenue: ${df['total_amount'].sum():,.2f}\")\n",
        "print(f\"   Total Profit: ${df['profit'].sum():,.2f}\")\n",
        "print(f\"   Avg Profit Margin: {df['profit_margin'].mean():.2f}%\")\n",
        "print(f\"   Total Transactions: {df['transaction_id'].nunique():,}\")\n",
        "print(f\"   Unique Customers: {df['customer_id'].nunique():,}\")\n",
        "print(f\"   Unique Products Sold: {df['product_id'].nunique():,}\")\n",
        "\n",
        "print(\"\\n2. CUSTOMER INSIGHTS\")\n",
        "vip_revenue_pct = segment_analysis[segment_analysis['segment'] == 'VIP']['revenue_pct'].values[0] if 'VIP' in segment_analysis['segment'].values else 0\n",
        "print(f\"   High-value segments drive majority of revenue\")\n",
        "print(f\"   Average customer lifetime value: ${df.groupby('customer_id')['total_amount'].sum().mean():,.2f}\")\n",
        "print(f\"   Average transactions per customer: {len(df) / df['customer_id'].nunique():.1f}\")\n",
        "\n",
        "print(\"\\n3. PRODUCT INSIGHTS\")\n",
        "print(f\"   Top category: {category_performance.iloc[0]['category']} (${category_performance.iloc[0]['total_revenue']:,.2f})\")\n",
        "print(f\"   Average order value: ${df['total_amount'].mean():.2f}\")\n",
        "print(f\"   Average items per transaction: {df['quantity'].mean():.2f}\")\n",
        "\n",
        "print(\"\\n4. GEOGRAPHIC INSIGHTS\")\n",
        "print(f\"   Top country: {geo_sales.iloc[0]['country']} ({geo_sales.iloc[0]['revenue_pct']:.1f}% of revenue)\")\n",
        "print(f\"   Markets served: {geo_sales['country'].nunique()} countries\")\n",
        "\n",
        "print(\"\\n5. RECOMMENDATIONS\")\n",
        "print(\"   - Focus retention efforts on high-value customer segments\")\n",
        "print(\"   - Optimize inventory for top-performing categories\")\n",
        "print(\"   - Implement targeted marketing for inactive customers\")\n",
        "print(\"   - Geographic expansion in underserved markets\")\n",
        "\n",
        "print(\"\\n\" + \"=\"*80)\n"
      ]
    },
    {
      "cell_type": "code",
      "execution_count": null,
      "metadata": {},
      "outputs": [],
      "source": [
        "# Save cleaned data\n",
        "output_path = PATHS['data_processed'] / 'cleaned_sales_data.csv'\n",
        "df.to_csv(output_path, index=False)\n",
        "print(f\"Cleaned data saved to: {output_path}\")\n",
        "print(f\"Records: {len(df):,}\")\n",
        "print(f\"Size: {output_path.stat().st_size / 1024**2:.2f} MB\")\n"
      ]
    },
    {
      "cell_type": "markdown",
      "metadata": {},
      "source": [
        "## Analysis Complete\n",
        "\n",
        "**Next Steps:**\n",
        "1. Proceed to `02_statistical_analysis.ipynb` for cohort analysis and RFM segmentation\n",
        "2. Review `03_machine_learning_models.ipynb` for predictive modeling\n",
        "3. Explore interactive dashboards at http://localhost:8501\n"
      ]
    }
  ],
  "metadata": {
    "language_info": {
      "name": "python"
    }
  },
  "nbformat": 4,
  "nbformat_minor": 2
}
